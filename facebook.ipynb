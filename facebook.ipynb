{
 "cells": [
  {
   "cell_type": "markdown",
   "metadata": {},
   "source": [
    "# Facebook Ad Campaign Customer Profiling "
   ]
  },
  {
   "cell_type": "markdown",
   "metadata": {},
   "source": [
    "Ensuring that the right campaign is seen by the right individuals is paramount to the success of a campaign. This is not only from a fiscal perspective but also includes the possibility to authentically engage with an audience and have a better understanding of just who they are and what gets them ticking. In order to marry the right audience and campaign, I begin with clustering the audience by the given features, namely age, gender and interests as given in the dataset."
   ]
  },
  {
   "cell_type": "markdown",
   "metadata": {},
   "source": [
    "## Data Exploration \n",
    "### Exploratory Data Analysis and Visualizations"
   ]
  },
  {
   "cell_type": "markdown",
   "metadata": {
    "heading_collapsed": true
   },
   "source": [
    "#### Import packages"
   ]
  },
  {
   "cell_type": "code",
   "execution_count": 1,
   "metadata": {
    "ExecuteTime": {
     "end_time": "2020-01-02T09:17:08.690207Z",
     "start_time": "2020-01-02T09:17:04.323553Z"
    },
    "hidden": true
   },
   "outputs": [],
   "source": [
    "import numpy as np \n",
    "import pandas as pd \n",
    "import matplotlib.pyplot as plt \n",
    "%matplotlib inline\n",
    "import seaborn as sns\n",
    "\n",
    "import re\n",
    "from random import randint\n",
    "from sklearn.preprocessing import MinMaxScaler\n",
    "from sklearn import preprocessing\n",
    "from sklearn.cluster import KMeans\n",
    "from scipy.cluster import hierarchy\n",
    "from sklearn.cluster import AgglomerativeClustering\n",
    "from sklearn import cluster\n",
    "from sklearn.metrics import classification_report\n",
    "from sklearn.metrics import accuracy_score\n",
    "from sklearn.metrics import confusion_matrix\n",
    "from math import pi\n",
    "\n",
    "from sklearn.preprocessing import OneHotEncoder\n",
    "import xgboost as xgb\n",
    "from sklearn.model_selection import train_test_split\n",
    "from sklearn.linear_model import LogisticRegression\n",
    "from xgboost import XGBClassifier\n",
    "from sklearn import svm\n",
    "from sklearn.linear_model import LogisticRegressionCV"
   ]
  },
  {
   "cell_type": "markdown",
   "metadata": {
    "heading_collapsed": true
   },
   "source": [
    "#### Dataframe inspection"
   ]
  },
  {
   "cell_type": "code",
   "execution_count": 2,
   "metadata": {
    "ExecuteTime": {
     "end_time": "2020-01-02T09:17:08.764803Z",
     "start_time": "2020-01-02T09:17:08.694475Z"
    },
    "hidden": true
   },
   "outputs": [
    {
     "data": {
      "text/html": [
       "<div>\n",
       "<style scoped>\n",
       "    .dataframe tbody tr th:only-of-type {\n",
       "        vertical-align: middle;\n",
       "    }\n",
       "\n",
       "    .dataframe tbody tr th {\n",
       "        vertical-align: top;\n",
       "    }\n",
       "\n",
       "    .dataframe thead th {\n",
       "        text-align: right;\n",
       "    }\n",
       "</style>\n",
       "<table border=\"1\" class=\"dataframe\">\n",
       "  <thead>\n",
       "    <tr style=\"text-align: right;\">\n",
       "      <th></th>\n",
       "      <th>ad_id</th>\n",
       "      <th>xyz_campaign_id</th>\n",
       "      <th>fb_campaign_id</th>\n",
       "      <th>age</th>\n",
       "      <th>gender</th>\n",
       "      <th>interest</th>\n",
       "      <th>Impressions</th>\n",
       "      <th>Clicks</th>\n",
       "      <th>Spent</th>\n",
       "      <th>Total_Conversion</th>\n",
       "      <th>Approved_Conversion</th>\n",
       "    </tr>\n",
       "  </thead>\n",
       "  <tbody>\n",
       "    <tr>\n",
       "      <th>0</th>\n",
       "      <td>708746</td>\n",
       "      <td>916</td>\n",
       "      <td>103916</td>\n",
       "      <td>30-34</td>\n",
       "      <td>M</td>\n",
       "      <td>15</td>\n",
       "      <td>7350</td>\n",
       "      <td>1</td>\n",
       "      <td>1.43</td>\n",
       "      <td>2</td>\n",
       "      <td>1</td>\n",
       "    </tr>\n",
       "    <tr>\n",
       "      <th>1</th>\n",
       "      <td>708749</td>\n",
       "      <td>916</td>\n",
       "      <td>103917</td>\n",
       "      <td>30-34</td>\n",
       "      <td>M</td>\n",
       "      <td>16</td>\n",
       "      <td>17861</td>\n",
       "      <td>2</td>\n",
       "      <td>1.82</td>\n",
       "      <td>2</td>\n",
       "      <td>0</td>\n",
       "    </tr>\n",
       "    <tr>\n",
       "      <th>2</th>\n",
       "      <td>708771</td>\n",
       "      <td>916</td>\n",
       "      <td>103920</td>\n",
       "      <td>30-34</td>\n",
       "      <td>M</td>\n",
       "      <td>20</td>\n",
       "      <td>693</td>\n",
       "      <td>0</td>\n",
       "      <td>0.00</td>\n",
       "      <td>1</td>\n",
       "      <td>0</td>\n",
       "    </tr>\n",
       "    <tr>\n",
       "      <th>3</th>\n",
       "      <td>708815</td>\n",
       "      <td>916</td>\n",
       "      <td>103928</td>\n",
       "      <td>30-34</td>\n",
       "      <td>M</td>\n",
       "      <td>28</td>\n",
       "      <td>4259</td>\n",
       "      <td>1</td>\n",
       "      <td>1.25</td>\n",
       "      <td>1</td>\n",
       "      <td>0</td>\n",
       "    </tr>\n",
       "    <tr>\n",
       "      <th>4</th>\n",
       "      <td>708818</td>\n",
       "      <td>916</td>\n",
       "      <td>103928</td>\n",
       "      <td>30-34</td>\n",
       "      <td>M</td>\n",
       "      <td>28</td>\n",
       "      <td>4133</td>\n",
       "      <td>1</td>\n",
       "      <td>1.29</td>\n",
       "      <td>1</td>\n",
       "      <td>1</td>\n",
       "    </tr>\n",
       "  </tbody>\n",
       "</table>\n",
       "</div>"
      ],
      "text/plain": [
       "    ad_id  xyz_campaign_id  fb_campaign_id    age gender  interest  \\\n",
       "0  708746              916          103916  30-34      M        15   \n",
       "1  708749              916          103917  30-34      M        16   \n",
       "2  708771              916          103920  30-34      M        20   \n",
       "3  708815              916          103928  30-34      M        28   \n",
       "4  708818              916          103928  30-34      M        28   \n",
       "\n",
       "   Impressions  Clicks  Spent  Total_Conversion  Approved_Conversion  \n",
       "0         7350       1   1.43                 2                    1  \n",
       "1        17861       2   1.82                 2                    0  \n",
       "2          693       0   0.00                 1                    0  \n",
       "3         4259       1   1.25                 1                    0  \n",
       "4         4133       1   1.29                 1                    1  "
      ]
     },
     "execution_count": 2,
     "metadata": {},
     "output_type": "execute_result"
    }
   ],
   "source": [
    "# Load the data in a dataframe\n",
    "conversion_data = pd.read_csv('KAG_conversion_data.csv')   \n",
    "conversion_data.head()"
   ]
  },
  {
   "cell_type": "code",
   "execution_count": 3,
   "metadata": {
    "ExecuteTime": {
     "end_time": "2020-01-02T09:17:08.815364Z",
     "start_time": "2020-01-02T09:17:08.781983Z"
    },
    "hidden": true
   },
   "outputs": [
    {
     "name": "stdout",
     "output_type": "stream",
     "text": [
      "<class 'pandas.core.frame.DataFrame'>\n",
      "RangeIndex: 1143 entries, 0 to 1142\n",
      "Data columns (total 11 columns):\n",
      "ad_id                  1143 non-null int64\n",
      "xyz_campaign_id        1143 non-null int64\n",
      "fb_campaign_id         1143 non-null int64\n",
      "age                    1143 non-null object\n",
      "gender                 1143 non-null object\n",
      "interest               1143 non-null int64\n",
      "Impressions            1143 non-null int64\n",
      "Clicks                 1143 non-null int64\n",
      "Spent                  1143 non-null float64\n",
      "Total_Conversion       1143 non-null int64\n",
      "Approved_Conversion    1143 non-null int64\n",
      "dtypes: float64(1), int64(8), object(2)\n",
      "memory usage: 98.4+ KB\n"
     ]
    }
   ],
   "source": [
    "# Checking for irregularities in the data\n",
    "conversion_data.info()"
   ]
  },
  {
   "cell_type": "code",
   "execution_count": 4,
   "metadata": {
    "ExecuteTime": {
     "end_time": "2020-01-02T09:17:08.832879Z",
     "start_time": "2020-01-02T09:17:08.821217Z"
    },
    "hidden": true
   },
   "outputs": [
    {
     "data": {
      "text/plain": [
       "ad_id                    int64\n",
       "xyz_campaign_id          int64\n",
       "fb_campaign_id           int64\n",
       "age                     object\n",
       "gender                  object\n",
       "interest                 int64\n",
       "Impressions              int64\n",
       "Clicks                   int64\n",
       "Spent                  float64\n",
       "Total_Conversion         int64\n",
       "Approved_Conversion      int64\n",
       "dtype: object"
      ]
     },
     "execution_count": 4,
     "metadata": {},
     "output_type": "execute_result"
    }
   ],
   "source": [
    "# Check the datatypes for the columns \n",
    "conversion_data.dtypes"
   ]
  },
  {
   "cell_type": "code",
   "execution_count": 5,
   "metadata": {
    "ExecuteTime": {
     "end_time": "2020-01-02T09:17:08.874438Z",
     "start_time": "2020-01-02T09:17:08.837590Z"
    },
    "hidden": true
   },
   "outputs": [
    {
     "data": {
      "text/html": [
       "<div>\n",
       "<style scoped>\n",
       "    .dataframe tbody tr th:only-of-type {\n",
       "        vertical-align: middle;\n",
       "    }\n",
       "\n",
       "    .dataframe tbody tr th {\n",
       "        vertical-align: top;\n",
       "    }\n",
       "\n",
       "    .dataframe thead th {\n",
       "        text-align: right;\n",
       "    }\n",
       "</style>\n",
       "<table border=\"1\" class=\"dataframe\">\n",
       "  <thead>\n",
       "    <tr style=\"text-align: right;\">\n",
       "      <th></th>\n",
       "      <th>xyz_campaign_id</th>\n",
       "      <th>age</th>\n",
       "      <th>gender</th>\n",
       "      <th>interest</th>\n",
       "      <th>Impressions</th>\n",
       "      <th>Clicks</th>\n",
       "      <th>Spent</th>\n",
       "      <th>Total_Conversion</th>\n",
       "      <th>Approved_Conversion</th>\n",
       "    </tr>\n",
       "  </thead>\n",
       "  <tbody>\n",
       "    <tr>\n",
       "      <th>0</th>\n",
       "      <td>916</td>\n",
       "      <td>30-34</td>\n",
       "      <td>M</td>\n",
       "      <td>15</td>\n",
       "      <td>7350</td>\n",
       "      <td>1</td>\n",
       "      <td>1.43</td>\n",
       "      <td>2</td>\n",
       "      <td>1</td>\n",
       "    </tr>\n",
       "    <tr>\n",
       "      <th>1</th>\n",
       "      <td>916</td>\n",
       "      <td>30-34</td>\n",
       "      <td>M</td>\n",
       "      <td>16</td>\n",
       "      <td>17861</td>\n",
       "      <td>2</td>\n",
       "      <td>1.82</td>\n",
       "      <td>2</td>\n",
       "      <td>0</td>\n",
       "    </tr>\n",
       "    <tr>\n",
       "      <th>2</th>\n",
       "      <td>916</td>\n",
       "      <td>30-34</td>\n",
       "      <td>M</td>\n",
       "      <td>20</td>\n",
       "      <td>693</td>\n",
       "      <td>0</td>\n",
       "      <td>0.00</td>\n",
       "      <td>1</td>\n",
       "      <td>0</td>\n",
       "    </tr>\n",
       "    <tr>\n",
       "      <th>3</th>\n",
       "      <td>916</td>\n",
       "      <td>30-34</td>\n",
       "      <td>M</td>\n",
       "      <td>28</td>\n",
       "      <td>4259</td>\n",
       "      <td>1</td>\n",
       "      <td>1.25</td>\n",
       "      <td>1</td>\n",
       "      <td>0</td>\n",
       "    </tr>\n",
       "    <tr>\n",
       "      <th>4</th>\n",
       "      <td>916</td>\n",
       "      <td>30-34</td>\n",
       "      <td>M</td>\n",
       "      <td>28</td>\n",
       "      <td>4133</td>\n",
       "      <td>1</td>\n",
       "      <td>1.29</td>\n",
       "      <td>1</td>\n",
       "      <td>1</td>\n",
       "    </tr>\n",
       "  </tbody>\n",
       "</table>\n",
       "</div>"
      ],
      "text/plain": [
       "   xyz_campaign_id    age gender  interest  Impressions  Clicks  Spent  \\\n",
       "0              916  30-34      M        15         7350       1   1.43   \n",
       "1              916  30-34      M        16        17861       2   1.82   \n",
       "2              916  30-34      M        20          693       0   0.00   \n",
       "3              916  30-34      M        28         4259       1   1.25   \n",
       "4              916  30-34      M        28         4133       1   1.29   \n",
       "\n",
       "   Total_Conversion  Approved_Conversion  \n",
       "0                 2                    1  \n",
       "1                 2                    0  \n",
       "2                 1                    0  \n",
       "3                 1                    0  \n",
       "4                 1                    1  "
      ]
     },
     "execution_count": 5,
     "metadata": {},
     "output_type": "execute_result"
    }
   ],
   "source": [
    "# There are as many ad ids as observations and can therefore be dropped. The same goes for the FB campaign ids\n",
    "conversion_data.drop(['ad_id'], axis = 1, inplace = True)\n",
    "conversion_data.drop(['fb_campaign_id'], axis = 1, inplace = True)\n",
    "conversion_data.head()"
   ]
  },
  {
   "cell_type": "markdown",
   "metadata": {
    "heading_collapsed": true
   },
   "source": [
    "#### Gender plot"
   ]
  },
  {
   "cell_type": "code",
   "execution_count": 6,
   "metadata": {
    "ExecuteTime": {
     "end_time": "2020-01-02T09:17:09.217222Z",
     "start_time": "2020-01-02T09:17:08.883151Z"
    },
    "hidden": true
   },
   "outputs": [
    {
     "data": {
      "image/png": "[encoded data removed]",
      "text/plain": [
       "<Figure size 432x288 with 1 Axes>"
      ]
     },
     "metadata": {
      "needs_background": "light"
     },
     "output_type": "display_data"
    }
   ],
   "source": [
    "# Gender\n",
    "gender = conversion_data['gender'].value_counts()\n",
    "sns.barplot(x = gender.index, y = gender.values, palette = 'YlOrBr')\n",
    "plt.xlabel('Gender')\n",
    "plt.ylabel('The number of ads')\n",
    "plt.title('The number of advertisements by gender')\n",
    "plt.show();"
   ]
  },
  {
   "cell_type": "code",
   "execution_count": 7,
   "metadata": {
    "ExecuteTime": {
     "end_time": "2020-01-02T09:17:09.236078Z",
     "start_time": "2020-01-02T09:17:09.220986Z"
    },
    "hidden": true
   },
   "outputs": [
    {
     "data": {
      "text/plain": [
       "M    592\n",
       "F    551\n",
       "Name: gender, dtype: int64"
      ]
     },
     "execution_count": 7,
     "metadata": {},
     "output_type": "execute_result"
    }
   ],
   "source": [
    "gender = conversion_data['gender'].value_counts()\n",
    "gender"
   ]
  },
  {
   "cell_type": "markdown",
   "metadata": {
    "heading_collapsed": true
   },
   "source": [
    "#### Age Plot"
   ]
  },
  {
   "cell_type": "code",
   "execution_count": 8,
   "metadata": {
    "ExecuteTime": {
     "end_time": "2020-01-02T09:17:09.525162Z",
     "start_time": "2020-01-02T09:17:09.255793Z"
    },
    "hidden": true
   },
   "outputs": [
    {
     "data": {
      "image/png": "[encoded data removed]",
      "text/plain": [
       "<Figure size 432x288 with 1 Axes>"
      ]
     },
     "metadata": {
      "needs_background": "light"
     },
     "output_type": "display_data"
    }
   ],
   "source": [
    "# Age groups \n",
    "ages = conversion_data['age'].value_counts()\n",
    "sns.barplot(x = ages.index, y = ages.values, palette = 'YlOrBr')\n",
    "plt.xlabel('Age')\n",
    "plt.ylabel('The number of ads')\n",
    "plt.title('The Age distribution for campaign ads')\n",
    "plt.show();"
   ]
  },
  {
   "cell_type": "code",
   "execution_count": 9,
   "metadata": {
    "ExecuteTime": {
     "end_time": "2020-01-02T09:17:09.548874Z",
     "start_time": "2020-01-02T09:17:09.532185Z"
    },
    "hidden": true
   },
   "outputs": [
    {
     "data": {
      "text/plain": [
       "array([426, 259, 248, 210])"
      ]
     },
     "execution_count": 9,
     "metadata": {},
     "output_type": "execute_result"
    }
   ],
   "source": [
    "ages = conversion_data['age'].value_counts()\n",
    "ages.values"
   ]
  },
  {
   "cell_type": "markdown",
   "metadata": {
    "heading_collapsed": true
   },
   "source": [
    "#### Campaign Advertisement Plot"
   ]
  },
  {
   "cell_type": "code",
   "execution_count": 10,
   "metadata": {
    "ExecuteTime": {
     "end_time": "2020-01-02T09:17:09.884904Z",
     "start_time": "2020-01-02T09:17:09.554652Z"
    },
    "hidden": true
   },
   "outputs": [
    {
     "data": {
      "image/png": "[encoded data removed]",
      "text/plain": [
       "<Figure size 432x288 with 1 Axes>"
      ]
     },
     "metadata": {
      "needs_background": "light"
     },
     "output_type": "display_data"
    }
   ],
   "source": [
    "# Verify that viewers are being exposed to the same campaigns\n",
    "ad_campaigns = conversion_data['xyz_campaign_id'].value_counts()\n",
    "sns.barplot(x = ad_campaigns.index, y = ad_campaigns.values, palette = 'YlOrBr')\n",
    "plt.xlabel('Company campaigns')\n",
    "plt.ylabel('The number of ads')\n",
    "plt.title('The number of advertisements')\n",
    "plt.show();"
   ]
  },
  {
   "cell_type": "code",
   "execution_count": 11,
   "metadata": {
    "ExecuteTime": {
     "end_time": "2020-01-02T09:17:09.910854Z",
     "start_time": "2020-01-02T09:17:09.893290Z"
    },
    "hidden": true
   },
   "outputs": [
    {
     "data": {
      "text/plain": [
       "1178    625\n",
       "936     464\n",
       "916      54\n",
       "Name: xyz_campaign_id, dtype: int64"
      ]
     },
     "execution_count": 11,
     "metadata": {},
     "output_type": "execute_result"
    }
   ],
   "source": [
    "ad_campaigns"
   ]
  },
  {
   "cell_type": "markdown",
   "metadata": {
    "heading_collapsed": true
   },
   "source": [
    "#### Viewer Interests Plot"
   ]
  },
  {
   "cell_type": "code",
   "execution_count": 12,
   "metadata": {
    "ExecuteTime": {
     "end_time": "2020-01-02T09:17:10.783696Z",
     "start_time": "2020-01-02T09:17:09.918193Z"
    },
    "hidden": true
   },
   "outputs": [
    {
     "data": {
      "image/png": "[encoded data removed]",
      "text/plain": [
       "<Figure size 1080x720 with 1 Axes>"
      ]
     },
     "metadata": {
      "needs_background": "light"
     },
     "output_type": "display_data"
    }
   ],
   "source": [
    "# Viewer interests \n",
    "viewer_interests = conversion_data['interest'].value_counts()\n",
    "viewer_interests.index = list(range(len(viewer_interests)))\n",
    "viewer_interests\n",
    "\n",
    "plt.figure(figsize = (15,10))\n",
    "sns.barplot(x = viewer_interests.index, y = viewer_interests.values, palette = 'YlOrBr')\n",
    "plt.xlabel('Viewer interests')\n",
    "plt.ylabel('The number of ads')\n",
    "plt.title('The number of advertisements')\n",
    "plt.show();"
   ]
  },
  {
   "cell_type": "markdown",
   "metadata": {},
   "source": [
    "## Customer segmentation by Campaign\n",
    "\n",
    "In attempts to define the ideal user profile for each campaign, I cluster the viewers by the provided features.This is to ensure that the right campaign is being seen and engaged with by the ideal client in order to gain brand awareness and ultimately result in conversions.\n",
    "\n",
    "To do this, I use the kmeans method. The viewers are grouped by their age, gender and interests. These are all categorical values and will require some transformations first in order to be used for the kmeans clustering algorithm. In order to find the optimal value for K, I use the Within Cluster Sum of Squares distances. This is also known as the intracluster square distances - the sum distances between an observation and its cluster centroid in attempts to minimize it. The closer the observations are to the centroid of a cluster, the better the cluster."
   ]
  },
  {
   "cell_type": "markdown",
   "metadata": {},
   "source": [
    "### Data preprocessing for clustering\n",
    "#### Dataframe Clean Up"
   ]
  },
  {
   "cell_type": "code",
   "execution_count": 13,
   "metadata": {
    "ExecuteTime": {
     "end_time": "2020-01-02T09:17:10.810478Z",
     "start_time": "2020-01-02T09:17:10.793374Z"
    }
   },
   "outputs": [],
   "source": [
    "# Label encode the campaign column\n",
    "label_encoder = preprocessing.LabelEncoder()\n",
    "conversion_data['xyz_campaign_id'] = label_encoder.fit_transform(conversion_data['xyz_campaign_id'])\n",
    "\n",
    "# Label encode the gender column\n",
    "conversion_data['gender'] = label_encoder.fit_transform(conversion_data['gender'])"
   ]
  },
  {
   "cell_type": "code",
   "execution_count": 14,
   "metadata": {
    "ExecuteTime": {
     "end_time": "2020-01-02T09:17:10.828316Z",
     "start_time": "2020-01-02T09:17:10.816491Z"
    }
   },
   "outputs": [],
   "source": [
    "def random_age_generator(age_range_string):\n",
    "    '''The following function takes in a string, converts them to a list of ages and generates a random value\n",
    "    in the range of the list'''\n",
    "    age_range_list = [int(number) for number in re.findall(r'\\w+', age_range_string)]\n",
    "    age = randint(age_range_list[0], age_range_list[1])\n",
    "    return age"
   ]
  },
  {
   "cell_type": "code",
   "execution_count": 15,
   "metadata": {
    "ExecuteTime": {
     "end_time": "2020-01-02T09:17:10.897949Z",
     "start_time": "2020-01-02T09:17:10.848649Z"
    }
   },
   "outputs": [
    {
     "data": {
      "text/html": [
       "<div>\n",
       "<style scoped>\n",
       "    .dataframe tbody tr th:only-of-type {\n",
       "        vertical-align: middle;\n",
       "    }\n",
       "\n",
       "    .dataframe tbody tr th {\n",
       "        vertical-align: top;\n",
       "    }\n",
       "\n",
       "    .dataframe thead th {\n",
       "        text-align: right;\n",
       "    }\n",
       "</style>\n",
       "<table border=\"1\" class=\"dataframe\">\n",
       "  <thead>\n",
       "    <tr style=\"text-align: right;\">\n",
       "      <th></th>\n",
       "      <th>xyz_campaign_id</th>\n",
       "      <th>age</th>\n",
       "      <th>gender</th>\n",
       "      <th>interest</th>\n",
       "      <th>Impressions</th>\n",
       "      <th>Clicks</th>\n",
       "      <th>Spent</th>\n",
       "      <th>Total_Conversion</th>\n",
       "      <th>Approved_Conversion</th>\n",
       "    </tr>\n",
       "  </thead>\n",
       "  <tbody>\n",
       "    <tr>\n",
       "      <th>0</th>\n",
       "      <td>0</td>\n",
       "      <td>30</td>\n",
       "      <td>1</td>\n",
       "      <td>15</td>\n",
       "      <td>7350</td>\n",
       "      <td>1</td>\n",
       "      <td>1.43</td>\n",
       "      <td>2</td>\n",
       "      <td>1</td>\n",
       "    </tr>\n",
       "    <tr>\n",
       "      <th>1</th>\n",
       "      <td>0</td>\n",
       "      <td>30</td>\n",
       "      <td>1</td>\n",
       "      <td>16</td>\n",
       "      <td>17861</td>\n",
       "      <td>2</td>\n",
       "      <td>1.82</td>\n",
       "      <td>2</td>\n",
       "      <td>0</td>\n",
       "    </tr>\n",
       "    <tr>\n",
       "      <th>2</th>\n",
       "      <td>0</td>\n",
       "      <td>32</td>\n",
       "      <td>1</td>\n",
       "      <td>20</td>\n",
       "      <td>693</td>\n",
       "      <td>0</td>\n",
       "      <td>0.00</td>\n",
       "      <td>1</td>\n",
       "      <td>0</td>\n",
       "    </tr>\n",
       "    <tr>\n",
       "      <th>3</th>\n",
       "      <td>0</td>\n",
       "      <td>30</td>\n",
       "      <td>1</td>\n",
       "      <td>28</td>\n",
       "      <td>4259</td>\n",
       "      <td>1</td>\n",
       "      <td>1.25</td>\n",
       "      <td>1</td>\n",
       "      <td>0</td>\n",
       "    </tr>\n",
       "    <tr>\n",
       "      <th>4</th>\n",
       "      <td>0</td>\n",
       "      <td>33</td>\n",
       "      <td>1</td>\n",
       "      <td>28</td>\n",
       "      <td>4133</td>\n",
       "      <td>1</td>\n",
       "      <td>1.29</td>\n",
       "      <td>1</td>\n",
       "      <td>1</td>\n",
       "    </tr>\n",
       "  </tbody>\n",
       "</table>\n",
       "</div>"
      ],
      "text/plain": [
       "   xyz_campaign_id  age  gender  interest  Impressions  Clicks  Spent  \\\n",
       "0                0   30       1        15         7350       1   1.43   \n",
       "1                0   30       1        16        17861       2   1.82   \n",
       "2                0   32       1        20          693       0   0.00   \n",
       "3                0   30       1        28         4259       1   1.25   \n",
       "4                0   33       1        28         4133       1   1.29   \n",
       "\n",
       "   Total_Conversion  Approved_Conversion  \n",
       "0                 2                    1  \n",
       "1                 2                    0  \n",
       "2                 1                    0  \n",
       "3                 1                    0  \n",
       "4                 1                    1  "
      ]
     },
     "execution_count": 15,
     "metadata": {},
     "output_type": "execute_result"
    }
   ],
   "source": [
    "# Replace the age range strings with the random values within that range for more variation in the data\n",
    "conversion_data['age'] = conversion_data['age'].apply(random_age_generator)\n",
    "conversion_data.head()"
   ]
  },
  {
   "cell_type": "code",
   "execution_count": 16,
   "metadata": {
    "ExecuteTime": {
     "end_time": "2020-01-02T09:17:10.926960Z",
     "start_time": "2020-01-02T09:17:10.908171Z"
    }
   },
   "outputs": [],
   "source": [
    "# Normalize the columns needed\n",
    "def scaler(dataframe, columns_to_scale):\n",
    "    '''This function is used to scale the values of selected columns between 0 and 1'''\n",
    "    scaler = MinMaxScaler()\n",
    "    for column in columns_to_scale:\n",
    "        dataframe[column] = pd.DataFrame(scaler.fit_transform(pd.DataFrame(dataframe[column])), columns = [column])\n",
    "    return dataframe"
   ]
  },
  {
   "cell_type": "code",
   "execution_count": 17,
   "metadata": {
    "ExecuteTime": {
     "end_time": "2020-01-02T09:17:11.003610Z",
     "start_time": "2020-01-02T09:17:10.931625Z"
    }
   },
   "outputs": [
    {
     "data": {
      "text/html": [
       "<div>\n",
       "<style scoped>\n",
       "    .dataframe tbody tr th:only-of-type {\n",
       "        vertical-align: middle;\n",
       "    }\n",
       "\n",
       "    .dataframe tbody tr th {\n",
       "        vertical-align: top;\n",
       "    }\n",
       "\n",
       "    .dataframe thead th {\n",
       "        text-align: right;\n",
       "    }\n",
       "</style>\n",
       "<table border=\"1\" class=\"dataframe\">\n",
       "  <thead>\n",
       "    <tr style=\"text-align: right;\">\n",
       "      <th></th>\n",
       "      <th>xyz_campaign_id</th>\n",
       "      <th>age</th>\n",
       "      <th>gender</th>\n",
       "      <th>interest</th>\n",
       "      <th>Impressions</th>\n",
       "      <th>Clicks</th>\n",
       "      <th>Spent</th>\n",
       "      <th>Total_Conversion</th>\n",
       "      <th>Approved_Conversion</th>\n",
       "    </tr>\n",
       "  </thead>\n",
       "  <tbody>\n",
       "    <tr>\n",
       "      <th>0</th>\n",
       "      <td>0</td>\n",
       "      <td>0.000000</td>\n",
       "      <td>1.0</td>\n",
       "      <td>0.116071</td>\n",
       "      <td>7350</td>\n",
       "      <td>1</td>\n",
       "      <td>1.430000</td>\n",
       "      <td>2</td>\n",
       "      <td>1</td>\n",
       "    </tr>\n",
       "    <tr>\n",
       "      <th>1</th>\n",
       "      <td>0</td>\n",
       "      <td>0.000000</td>\n",
       "      <td>1.0</td>\n",
       "      <td>0.125000</td>\n",
       "      <td>17861</td>\n",
       "      <td>2</td>\n",
       "      <td>1.820000</td>\n",
       "      <td>2</td>\n",
       "      <td>0</td>\n",
       "    </tr>\n",
       "    <tr>\n",
       "      <th>2</th>\n",
       "      <td>0</td>\n",
       "      <td>0.105263</td>\n",
       "      <td>1.0</td>\n",
       "      <td>0.160714</td>\n",
       "      <td>693</td>\n",
       "      <td>0</td>\n",
       "      <td>0.000000</td>\n",
       "      <td>1</td>\n",
       "      <td>0</td>\n",
       "    </tr>\n",
       "    <tr>\n",
       "      <th>3</th>\n",
       "      <td>0</td>\n",
       "      <td>0.000000</td>\n",
       "      <td>1.0</td>\n",
       "      <td>0.232143</td>\n",
       "      <td>4259</td>\n",
       "      <td>1</td>\n",
       "      <td>1.250000</td>\n",
       "      <td>1</td>\n",
       "      <td>0</td>\n",
       "    </tr>\n",
       "    <tr>\n",
       "      <th>4</th>\n",
       "      <td>0</td>\n",
       "      <td>0.157895</td>\n",
       "      <td>1.0</td>\n",
       "      <td>0.232143</td>\n",
       "      <td>4133</td>\n",
       "      <td>1</td>\n",
       "      <td>1.290000</td>\n",
       "      <td>1</td>\n",
       "      <td>1</td>\n",
       "    </tr>\n",
       "    <tr>\n",
       "      <th>...</th>\n",
       "      <td>...</td>\n",
       "      <td>...</td>\n",
       "      <td>...</td>\n",
       "      <td>...</td>\n",
       "      <td>...</td>\n",
       "      <td>...</td>\n",
       "      <td>...</td>\n",
       "      <td>...</td>\n",
       "      <td>...</td>\n",
       "    </tr>\n",
       "    <tr>\n",
       "      <th>1138</th>\n",
       "      <td>2</td>\n",
       "      <td>0.947368</td>\n",
       "      <td>0.0</td>\n",
       "      <td>0.955357</td>\n",
       "      <td>1129773</td>\n",
       "      <td>252</td>\n",
       "      <td>358.189997</td>\n",
       "      <td>13</td>\n",
       "      <td>2</td>\n",
       "    </tr>\n",
       "    <tr>\n",
       "      <th>1139</th>\n",
       "      <td>2</td>\n",
       "      <td>0.894737</td>\n",
       "      <td>0.0</td>\n",
       "      <td>0.964286</td>\n",
       "      <td>637549</td>\n",
       "      <td>120</td>\n",
       "      <td>173.880003</td>\n",
       "      <td>3</td>\n",
       "      <td>0</td>\n",
       "    </tr>\n",
       "    <tr>\n",
       "      <th>1140</th>\n",
       "      <td>2</td>\n",
       "      <td>0.947368</td>\n",
       "      <td>0.0</td>\n",
       "      <td>0.973214</td>\n",
       "      <td>151531</td>\n",
       "      <td>28</td>\n",
       "      <td>40.289999</td>\n",
       "      <td>2</td>\n",
       "      <td>0</td>\n",
       "    </tr>\n",
       "    <tr>\n",
       "      <th>1141</th>\n",
       "      <td>2</td>\n",
       "      <td>1.000000</td>\n",
       "      <td>0.0</td>\n",
       "      <td>0.991071</td>\n",
       "      <td>790253</td>\n",
       "      <td>135</td>\n",
       "      <td>198.710000</td>\n",
       "      <td>8</td>\n",
       "      <td>2</td>\n",
       "    </tr>\n",
       "    <tr>\n",
       "      <th>1142</th>\n",
       "      <td>2</td>\n",
       "      <td>0.894737</td>\n",
       "      <td>0.0</td>\n",
       "      <td>1.000000</td>\n",
       "      <td>513161</td>\n",
       "      <td>114</td>\n",
       "      <td>165.609999</td>\n",
       "      <td>5</td>\n",
       "      <td>2</td>\n",
       "    </tr>\n",
       "  </tbody>\n",
       "</table>\n",
       "<p>1143 rows × 9 columns</p>\n",
       "</div>"
      ],
      "text/plain": [
       "      xyz_campaign_id       age  gender  interest  Impressions  Clicks  \\\n",
       "0                   0  0.000000     1.0  0.116071         7350       1   \n",
       "1                   0  0.000000     1.0  0.125000        17861       2   \n",
       "2                   0  0.105263     1.0  0.160714          693       0   \n",
       "3                   0  0.000000     1.0  0.232143         4259       1   \n",
       "4                   0  0.157895     1.0  0.232143         4133       1   \n",
       "...               ...       ...     ...       ...          ...     ...   \n",
       "1138                2  0.947368     0.0  0.955357      1129773     252   \n",
       "1139                2  0.894737     0.0  0.964286       637549     120   \n",
       "1140                2  0.947368     0.0  0.973214       151531      28   \n",
       "1141                2  1.000000     0.0  0.991071       790253     135   \n",
       "1142                2  0.894737     0.0  1.000000       513161     114   \n",
       "\n",
       "           Spent  Total_Conversion  Approved_Conversion  \n",
       "0       1.430000                 2                    1  \n",
       "1       1.820000                 2                    0  \n",
       "2       0.000000                 1                    0  \n",
       "3       1.250000                 1                    0  \n",
       "4       1.290000                 1                    1  \n",
       "...          ...               ...                  ...  \n",
       "1138  358.189997                13                    2  \n",
       "1139  173.880003                 3                    0  \n",
       "1140   40.289999                 2                    0  \n",
       "1141  198.710000                 8                    2  \n",
       "1142  165.609999                 5                    2  \n",
       "\n",
       "[1143 rows x 9 columns]"
      ]
     },
     "execution_count": 17,
     "metadata": {},
     "output_type": "execute_result"
    }
   ],
   "source": [
    "# Make copy of conversion_data to scale and apply kmeans\n",
    "kmeans_conversion_data = conversion_data.copy()\n",
    "scaler(kmeans_conversion_data, ['age', 'gender', 'interest'])"
   ]
  },
  {
   "cell_type": "code",
   "execution_count": 18,
   "metadata": {
    "ExecuteTime": {
     "end_time": "2020-01-02T09:17:11.023850Z",
     "start_time": "2020-01-02T09:17:11.010366Z"
    }
   },
   "outputs": [
    {
     "data": {
      "text/plain": [
       "xyz_campaign_id          int64\n",
       "age                    float64\n",
       "gender                 float64\n",
       "interest               float64\n",
       "Impressions              int64\n",
       "Clicks                   int64\n",
       "Spent                  float64\n",
       "Total_Conversion         int64\n",
       "Approved_Conversion      int64\n",
       "dtype: object"
      ]
     },
     "execution_count": 18,
     "metadata": {},
     "output_type": "execute_result"
    }
   ],
   "source": [
    "# Check the datatypes for the columns \n",
    "kmeans_conversion_data.dtypes"
   ]
  },
  {
   "cell_type": "markdown",
   "metadata": {},
   "source": [
    "### Partitional clustering: KMeans"
   ]
  },
  {
   "cell_type": "markdown",
   "metadata": {
    "heading_collapsed": true
   },
   "source": [
    "#### Selecting the optimal K value "
   ]
  },
  {
   "cell_type": "code",
   "execution_count": 19,
   "metadata": {
    "ExecuteTime": {
     "end_time": "2020-01-02T09:17:12.092555Z",
     "start_time": "2020-01-02T09:17:11.029873Z"
    },
    "hidden": true
   },
   "outputs": [
    {
     "data": {
      "image/png": "[encoded data removed]",
      "text/plain": [
       "<Figure size 1080x720 with 1 Axes>"
      ]
     },
     "metadata": {
      "needs_background": "light"
     },
     "output_type": "display_data"
    }
   ],
   "source": [
    "intracluster_distances = []\n",
    "K = range(2,10)\n",
    "for k in K:\n",
    "    kmeanModel = KMeans(n_clusters = k)\n",
    "    kmeanModel.fit(kmeans_conversion_data[['age', 'gender', 'interest']])\n",
    "    intracluster_distances.append(kmeanModel.inertia_)\n",
    "    \n",
    "plt.figure(figsize=(15, 10))\n",
    "plt.plot(K, intracluster_distances, color = 'orange', marker ='o')\n",
    "plt.xlabel('k')\n",
    "plt.ylabel('Intracluster_distances')\n",
    "plt.title('The Elbow Method showing the optimal k')\n",
    "plt.show();"
   ]
  },
  {
   "cell_type": "markdown",
   "metadata": {
    "hidden": true
   },
   "source": [
    "It appears the optimal k value for the feautures age, gender and interests is 3. This value will be used for the number of clusters. This is the same number of campaigns observed in the dataset and alludes to the possibility that clusters may indeed be centred around the campaigns."
   ]
  },
  {
   "cell_type": "markdown",
   "metadata": {
    "heading_collapsed": true
   },
   "source": [
    "#### Implementing and Plotting KMeans"
   ]
  },
  {
   "cell_type": "code",
   "execution_count": 20,
   "metadata": {
    "ExecuteTime": {
     "end_time": "2020-01-02T09:17:12.184570Z",
     "start_time": "2020-01-02T09:17:12.097972Z"
    },
    "hidden": true
   },
   "outputs": [],
   "source": [
    "# KMeans model\n",
    "k_means_model = KMeans(n_clusters = 3)\n",
    "k_means_model.fit(kmeans_conversion_data[['age', 'gender', 'interest']])\n",
    "kmeans_conversion_data['k_means'] = k_means_model.predict(kmeans_conversion_data[['age', 'gender', 'interest']])"
   ]
  },
  {
   "cell_type": "code",
   "execution_count": 21,
   "metadata": {
    "ExecuteTime": {
     "end_time": "2020-01-02T09:17:13.167747Z",
     "start_time": "2020-01-02T09:17:12.188055Z"
    },
    "hidden": true
   },
   "outputs": [
    {
     "data": {
      "image/png": "[encoded data removed]",
      "text/plain": [
       "<Figure size 1080x720 with 2 Axes>"
      ]
     },
     "metadata": {
      "needs_background": "light"
     },
     "output_type": "display_data"
    }
   ],
   "source": [
    "#Plot the predicted clusters vs the actual ones \n",
    "fig, axes = plt.subplots(1, 2, figsize=(15,10));\n",
    "sns.scatterplot(kmeans_conversion_data['age'], conversion_data['interest'], hue = kmeans_conversion_data['xyz_campaign_id'], \n",
    "                palette = 'copper', ax = axes[0] );\n",
    "sns.scatterplot(kmeans_conversion_data['age'], conversion_data['interest'], hue = kmeans_conversion_data['k_means'], \n",
    "         palette = 'copper', ax = axes[1]);\n",
    "\n",
    "axes[0].set_xlabel('Age')\n",
    "axes[1].set_xlabel('Age')\n",
    "axes[1].set_ylabel('Interests')\n",
    "axes[0].set_title('Actual', fontsize = 14);\n",
    "axes[1].set_title('K_Means', fontsize = 14);"
   ]
  },
  {
   "cell_type": "markdown",
   "metadata": {
    "hidden": true
   },
   "source": [
    "In the plot above it is evident that Campaign/ Cluster 2 is the most prevalent in the dataset by number of advertisements. The Actual cluster plot shows that viewer interests are the primary clustering method. The KMeans plot on the right appears to also identify a secondary clustering where majority of Campaign 0 is being viewed by an older market, namely people between the ages 45-49. Campaign 2 on the other hand attracts a younger market aged between 30-37.Campaign 1 seems to distribute quite evenly (and sparsely) across all interests and age groups. \n",
    "\n",
    "There appears to be distinct interest groups as well with some having a larger variance than others. This corresponds with the interest distribution plot seen earlier in the notebook. Interests labelled 0-19 seem to enjoy the largesr viewership. The variance also tells us that these are probably common interests that many people have. Interests labelled between 20-27 seem to be a very niche market with little variance. And interests labelled 28-39 seem to come in second in popularity and viewership."
   ]
  },
  {
   "cell_type": "markdown",
   "metadata": {
    "heading_collapsed": true
   },
   "source": [
    "#### KMeans Evaluation"
   ]
  },
  {
   "cell_type": "code",
   "execution_count": 22,
   "metadata": {
    "ExecuteTime": {
     "end_time": "2020-01-02T09:17:13.220077Z",
     "start_time": "2020-01-02T09:17:13.175318Z"
    },
    "hidden": true
   },
   "outputs": [
    {
     "data": {
      "text/html": [
       "<div>\n",
       "<style scoped>\n",
       "    .dataframe tbody tr th:only-of-type {\n",
       "        vertical-align: middle;\n",
       "    }\n",
       "\n",
       "    .dataframe tbody tr th {\n",
       "        vertical-align: top;\n",
       "    }\n",
       "\n",
       "    .dataframe thead th {\n",
       "        text-align: right;\n",
       "    }\n",
       "</style>\n",
       "<table border=\"1\" class=\"dataframe\">\n",
       "  <thead>\n",
       "    <tr style=\"text-align: right;\">\n",
       "      <th></th>\n",
       "      <th>xyz_campaign_id</th>\n",
       "      <th>age</th>\n",
       "      <th>gender</th>\n",
       "      <th>interest</th>\n",
       "      <th>Impressions</th>\n",
       "      <th>Clicks</th>\n",
       "      <th>Spent</th>\n",
       "      <th>Total_Conversion</th>\n",
       "      <th>Approved_Conversion</th>\n",
       "    </tr>\n",
       "    <tr>\n",
       "      <th>k_means</th>\n",
       "      <th></th>\n",
       "      <th></th>\n",
       "      <th></th>\n",
       "      <th></th>\n",
       "      <th></th>\n",
       "      <th></th>\n",
       "      <th></th>\n",
       "      <th></th>\n",
       "      <th></th>\n",
       "    </tr>\n",
       "  </thead>\n",
       "  <tbody>\n",
       "    <tr>\n",
       "      <th>0</th>\n",
       "      <td>1.474114</td>\n",
       "      <td>0.206798</td>\n",
       "      <td>1.0</td>\n",
       "      <td>0.254039</td>\n",
       "      <td>155298.370572</td>\n",
       "      <td>19.904632</td>\n",
       "      <td>34.536948</td>\n",
       "      <td>3.081744</td>\n",
       "      <td>1.114441</td>\n",
       "    </tr>\n",
       "    <tr>\n",
       "      <th>1</th>\n",
       "      <td>1.466425</td>\n",
       "      <td>0.459929</td>\n",
       "      <td>0.0</td>\n",
       "      <td>0.286476</td>\n",
       "      <td>208462.517241</td>\n",
       "      <td>43.335753</td>\n",
       "      <td>62.618185</td>\n",
       "      <td>2.983666</td>\n",
       "      <td>0.898367</td>\n",
       "    </tr>\n",
       "    <tr>\n",
       "      <th>2</th>\n",
       "      <td>1.622222</td>\n",
       "      <td>0.779181</td>\n",
       "      <td>1.0</td>\n",
       "      <td>0.279563</td>\n",
       "      <td>184788.795556</td>\n",
       "      <td>31.031111</td>\n",
       "      <td>51.233556</td>\n",
       "      <td>2.173333</td>\n",
       "      <td>0.777778</td>\n",
       "    </tr>\n",
       "  </tbody>\n",
       "</table>\n",
       "</div>"
      ],
      "text/plain": [
       "         xyz_campaign_id       age  gender  interest    Impressions  \\\n",
       "k_means                                                               \n",
       "0               1.474114  0.206798     1.0  0.254039  155298.370572   \n",
       "1               1.466425  0.459929     0.0  0.286476  208462.517241   \n",
       "2               1.622222  0.779181     1.0  0.279563  184788.795556   \n",
       "\n",
       "            Clicks      Spent  Total_Conversion  Approved_Conversion  \n",
       "k_means                                                               \n",
       "0        19.904632  34.536948          3.081744             1.114441  \n",
       "1        43.335753  62.618185          2.983666             0.898367  \n",
       "2        31.031111  51.233556          2.173333             0.777778  "
      ]
     },
     "execution_count": 22,
     "metadata": {},
     "output_type": "execute_result"
    }
   ],
   "source": [
    "kmeans_conversion_data.groupby('k_means').mean()"
   ]
  },
  {
   "cell_type": "code",
   "execution_count": 23,
   "metadata": {
    "ExecuteTime": {
     "end_time": "2020-01-02T09:17:13.286256Z",
     "start_time": "2020-01-02T09:17:13.237251Z"
    },
    "hidden": true
   },
   "outputs": [
    {
     "data": {
      "text/html": [
       "<div>\n",
       "<style scoped>\n",
       "    .dataframe tbody tr th:only-of-type {\n",
       "        vertical-align: middle;\n",
       "    }\n",
       "\n",
       "    .dataframe tbody tr th {\n",
       "        vertical-align: top;\n",
       "    }\n",
       "\n",
       "    .dataframe thead th {\n",
       "        text-align: right;\n",
       "    }\n",
       "</style>\n",
       "<table border=\"1\" class=\"dataframe\">\n",
       "  <thead>\n",
       "    <tr style=\"text-align: right;\">\n",
       "      <th></th>\n",
       "      <th>age</th>\n",
       "      <th>gender</th>\n",
       "      <th>interest</th>\n",
       "      <th>Impressions</th>\n",
       "      <th>Clicks</th>\n",
       "      <th>Spent</th>\n",
       "      <th>Total_Conversion</th>\n",
       "      <th>Approved_Conversion</th>\n",
       "      <th>k_means</th>\n",
       "    </tr>\n",
       "    <tr>\n",
       "      <th>xyz_campaign_id</th>\n",
       "      <th></th>\n",
       "      <th></th>\n",
       "      <th></th>\n",
       "      <th></th>\n",
       "      <th></th>\n",
       "      <th></th>\n",
       "      <th></th>\n",
       "      <th></th>\n",
       "      <th></th>\n",
       "    </tr>\n",
       "  </thead>\n",
       "  <tbody>\n",
       "    <tr>\n",
       "      <th>0</th>\n",
       "      <td>0.314815</td>\n",
       "      <td>0.648148</td>\n",
       "      <td>0.178406</td>\n",
       "      <td>8943.055556</td>\n",
       "      <td>2.092593</td>\n",
       "      <td>2.772407</td>\n",
       "      <td>1.074074</td>\n",
       "      <td>0.444444</td>\n",
       "      <td>0.648148</td>\n",
       "    </tr>\n",
       "    <tr>\n",
       "      <th>1</th>\n",
       "      <td>0.422868</td>\n",
       "      <td>0.448276</td>\n",
       "      <td>0.205780</td>\n",
       "      <td>17517.644397</td>\n",
       "      <td>4.275862</td>\n",
       "      <td>6.235711</td>\n",
       "      <td>1.157328</td>\n",
       "      <td>0.394397</td>\n",
       "      <td>0.849138</td>\n",
       "    </tr>\n",
       "    <tr>\n",
       "      <th>2</th>\n",
       "      <td>0.466274</td>\n",
       "      <td>0.558400</td>\n",
       "      <td>0.334186</td>\n",
       "      <td>327717.945600</td>\n",
       "      <td>57.708800</td>\n",
       "      <td>89.059440</td>\n",
       "      <td>4.270400</td>\n",
       "      <td>1.395200</td>\n",
       "      <td>0.915200</td>\n",
       "    </tr>\n",
       "  </tbody>\n",
       "</table>\n",
       "</div>"
      ],
      "text/plain": [
       "                      age    gender  interest    Impressions     Clicks  \\\n",
       "xyz_campaign_id                                                           \n",
       "0                0.314815  0.648148  0.178406    8943.055556   2.092593   \n",
       "1                0.422868  0.448276  0.205780   17517.644397   4.275862   \n",
       "2                0.466274  0.558400  0.334186  327717.945600  57.708800   \n",
       "\n",
       "                     Spent  Total_Conversion  Approved_Conversion   k_means  \n",
       "xyz_campaign_id                                                              \n",
       "0                 2.772407          1.074074             0.444444  0.648148  \n",
       "1                 6.235711          1.157328             0.394397  0.849138  \n",
       "2                89.059440          4.270400             1.395200  0.915200  "
      ]
     },
     "execution_count": 23,
     "metadata": {},
     "output_type": "execute_result"
    }
   ],
   "source": [
    "kmeans_conversion_data.groupby('xyz_campaign_id').mean()"
   ]
  },
  {
   "cell_type": "markdown",
   "metadata": {
    "hidden": true
   },
   "source": [
    "The k-means algorithm clusters the audience into 3 mutually exclusive groups. The viewers have shared similarities and the grouping done above attempts to create a profile for each of these groups based off of the feature combinations identified by the algorithm."
   ]
  },
  {
   "cell_type": "code",
   "execution_count": 24,
   "metadata": {
    "ExecuteTime": {
     "end_time": "2020-01-02T09:17:13.333951Z",
     "start_time": "2020-01-02T09:17:13.299298Z"
    },
    "hidden": true
   },
   "outputs": [],
   "source": [
    "# Confusion Matrix for the KMeans and Campaigns \n",
    "def plot_confusion_matrix(y_campaigns, y_kmeans, classes,\n",
    "                          normalize = False,\n",
    "                          title = None,\n",
    "                          cmap = 'YlOrBr'):\n",
    "    \"\"\"\n",
    "    This function prints and plots the confusion matrix.\n",
    "    Normalization can be applied by setting `normalize=True`.\n",
    "    \"\"\"\n",
    "    if not title:\n",
    "        if normalize:\n",
    "            title = 'Normalized confusion matrix'\n",
    "        else:\n",
    "            title = 'Confusion matrix, without normalization'\n",
    "\n",
    "    # Compute confusion matrix\n",
    "    con_matrix = confusion_matrix(kmeans_conversion_data['xyz_campaign_id'], kmeans_conversion_data['k_means'],\n",
    "                                  labels = y_campaigns.unique())\n",
    "    \n",
    "    # The labels that appear in both datasets\n",
    "    classes = y_campaigns.unique()\n",
    "    if normalize:\n",
    "        con_matrix = con_matrix.astype('float') / con_matrix.sum(axis=1)[:, np.newaxis]\n",
    "        print(\"Normalized confusion matrix\")\n",
    "    else:\n",
    "        print('Confusion matrix, without normalization')\n",
    "        \n",
    "    print(con_matrix)\n",
    "\n",
    "    fig, ax = plt.subplots()\n",
    "    im = ax.imshow(con_matrix, interpolation='nearest', cmap = 'YlOrBr')\n",
    "    ax.figure.colorbar(im, ax=ax)\n",
    "    \n",
    "    # We want to show all ticks...\n",
    "    ax.set(xticks=np.arange(con_matrix.shape[1]),\n",
    "           yticks=np.arange(con_matrix.shape[0]),\n",
    "           \n",
    "           # ... and label them with the respective list entries\n",
    "           xticklabels=classes, yticklabels=classes,\n",
    "           title=title,\n",
    "           ylabel='True Campaign labels',\n",
    "           xlabel='KMeans labels')\n",
    "\n",
    "    # Rotate the tick labels and set their alignment.\n",
    "    plt.setp(ax.get_xticklabels(), rotation=45, ha=\"right\",\n",
    "             rotation_mode=\"anchor\")\n",
    "\n",
    "    # Loop over data dimensions and create text annotations.\n",
    "    fmt = '.2f' if normalize else 'd'\n",
    "    thresh = con_matrix.max() / 2.\n",
    "    for i in range(con_matrix.shape[0]):\n",
    "        for j in range(con_matrix.shape[1]):\n",
    "            ax.text(j, i, format(con_matrix[i, j], fmt),\n",
    "                    ha=\"center\", va=\"center\",\n",
    "                    color=\"white\" if con_matrix[i, j] > thresh else \"black\")\n",
    "    fig.tight_layout()\n",
    "    return ax\n",
    "\n",
    "np.set_printoptions(precision = 2)"
   ]
  },
  {
   "cell_type": "code",
   "execution_count": 25,
   "metadata": {
    "ExecuteTime": {
     "end_time": "2020-01-02T09:17:13.713130Z",
     "start_time": "2020-01-02T09:17:13.339219Z"
    },
    "hidden": true
   },
   "outputs": [
    {
     "name": "stdout",
     "output_type": "stream",
     "text": [
      "Confusion matrix, without normalization\n",
      "[[ 27  19   8]\n",
      " [139 256  69]\n",
      " [201 276 148]]\n"
     ]
    },
    {
     "data": {
      "image/png": "[encoded data removed]",
      "text/plain": [
       "<Figure size 432x288 with 2 Axes>"
      ]
     },
     "metadata": {
      "needs_background": "light"
     },
     "output_type": "display_data"
    }
   ],
   "source": [
    "# Plot non-normalized confusion matrix\n",
    "plot_confusion_matrix(kmeans_conversion_data['xyz_campaign_id'], kmeans_conversion_data['k_means'], \n",
    "                      classes = kmeans_conversion_data['xyz_campaign_id'].unique(),\n",
    "                      title='Confusion matrix, without normalization')\n",
    "plt.show();"
   ]
  },
  {
   "cell_type": "code",
   "execution_count": 26,
   "metadata": {
    "ExecuteTime": {
     "end_time": "2020-01-02T09:17:13.744802Z",
     "start_time": "2020-01-02T09:17:13.720514Z"
    },
    "hidden": true
   },
   "outputs": [
    {
     "name": "stdout",
     "output_type": "stream",
     "text": [
      "              precision    recall  f1-score   support\n",
      "\n",
      "           0       0.07      0.50      0.13        54\n",
      "           1       0.46      0.55      0.50       464\n",
      "           2       0.66      0.24      0.35       625\n",
      "\n",
      "    accuracy                           0.38      1143\n",
      "   macro avg       0.40      0.43      0.33      1143\n",
      "weighted avg       0.55      0.38      0.40      1143\n",
      " 0.37707786526684167\n"
     ]
    }
   ],
   "source": [
    "# Gather metrics about the model's performance\n",
    "metrics = classification_report(kmeans_conversion_data['xyz_campaign_id'], kmeans_conversion_data['k_means'], labels = conversion_data['xyz_campaign_id'].unique())\n",
    "\n",
    "accuracy = accuracy_score(kmeans_conversion_data['xyz_campaign_id'],\n",
    "                                  kmeans_conversion_data['k_means'])\n",
    "\n",
    "print(metrics, accuracy)"
   ]
  },
  {
   "cell_type": "markdown",
   "metadata": {
    "hidden": true
   },
   "source": [
    "The confusion matrices above an scores show that the algorithm is horribly misclassifying all 3 campaigns. The KMeans algorithm is a supervised learning model and so we do not expect this because it already knows the target values to which it should attribute the given data samples. This confirms that the customers acnnot be classified the "
   ]
  },
  {
   "cell_type": "markdown",
   "metadata": {
    "heading_collapsed": true
   },
   "source": [
    "### Hierarchal clustering: Complete Linkage"
   ]
  },
  {
   "cell_type": "markdown",
   "metadata": {
    "hidden": true
   },
   "source": [
    "Again, clustering is used to try segment the viewers into 3 distinct clusters according to the running campaigns with the hopes of matching a user to a campaign and targeting them in that way."
   ]
  },
  {
   "cell_type": "code",
   "execution_count": 27,
   "metadata": {
    "ExecuteTime": {
     "end_time": "2020-01-02T09:17:16.033699Z",
     "start_time": "2020-01-02T09:17:13.753765Z"
    },
    "hidden": true
   },
   "outputs": [
    {
     "data": {
      "image/png": "[encoded data removed]",
      "text/plain": [
       "<Figure size 1080x720 with 1 Axes>"
      ]
     },
     "metadata": {
      "needs_background": "light"
     },
     "output_type": "display_data"
    }
   ],
   "source": [
    "linkage_matrix = hierarchy.linkage(kmeans_conversion_data[['age', 'gender', 'interest']], 'ward')\n",
    "hierarchy.set_link_color_palette(['yellow', 'orange'])\n",
    "\n",
    "figure = plt.figure(figsize=(15, 10))\n",
    "hierarchy.dendrogram(linkage_matrix,\n",
    "    truncate_mode='lastp',  # show only the last p merged clusters\n",
    "    p = 24,  # show only the last p merged clusters\n",
    "    leaf_rotation = 90,\n",
    "    leaf_font_size = 12,\n",
    "    show_contracted = True,  # to get a distribution impression in truncated branches\n",
    ")\n",
    "\n",
    "plt.title('Hierarchical Clustering Dendrogram (Ward, aggregated)')\n",
    "plt.xlabel('Adevertisment numbers')\n",
    "plt.ylabel('distance')\n",
    "plt.show()"
   ]
  },
  {
   "cell_type": "markdown",
   "metadata": {},
   "source": [
    "## Campaign Features and Metrics\n"
   ]
  },
  {
   "cell_type": "markdown",
   "metadata": {},
   "source": [
    "### Campaign Feature Analysis"
   ]
  },
  {
   "cell_type": "code",
   "execution_count": 36,
   "metadata": {
    "ExecuteTime": {
     "end_time": "2020-01-02T09:25:03.454537Z",
     "start_time": "2020-01-02T09:25:03.386428Z"
    }
   },
   "outputs": [
    {
     "data": {
      "text/html": [
       "<div>\n",
       "<style scoped>\n",
       "    .dataframe tbody tr th:only-of-type {\n",
       "        vertical-align: middle;\n",
       "    }\n",
       "\n",
       "    .dataframe tbody tr th {\n",
       "        vertical-align: top;\n",
       "    }\n",
       "\n",
       "    .dataframe thead th {\n",
       "        text-align: right;\n",
       "    }\n",
       "</style>\n",
       "<table border=\"1\" class=\"dataframe\">\n",
       "  <thead>\n",
       "    <tr style=\"text-align: right;\">\n",
       "      <th></th>\n",
       "      <th>xyz_campaign_id</th>\n",
       "      <th>age</th>\n",
       "      <th>gender</th>\n",
       "      <th>interest</th>\n",
       "      <th>Impressions</th>\n",
       "      <th>Clicks</th>\n",
       "      <th>Spent</th>\n",
       "      <th>Total_Conversion</th>\n",
       "      <th>Approved_Conversion</th>\n",
       "    </tr>\n",
       "  </thead>\n",
       "  <tbody>\n",
       "    <tr>\n",
       "      <th>0</th>\n",
       "      <td>0</td>\n",
       "      <td>30</td>\n",
       "      <td>1</td>\n",
       "      <td>15</td>\n",
       "      <td>0.002380</td>\n",
       "      <td>0.002375</td>\n",
       "      <td>0.002235</td>\n",
       "      <td>0.033333</td>\n",
       "      <td>0.047619</td>\n",
       "    </tr>\n",
       "    <tr>\n",
       "      <th>1</th>\n",
       "      <td>0</td>\n",
       "      <td>30</td>\n",
       "      <td>1</td>\n",
       "      <td>16</td>\n",
       "      <td>0.005824</td>\n",
       "      <td>0.004751</td>\n",
       "      <td>0.002844</td>\n",
       "      <td>0.033333</td>\n",
       "      <td>0.000000</td>\n",
       "    </tr>\n",
       "    <tr>\n",
       "      <th>2</th>\n",
       "      <td>0</td>\n",
       "      <td>32</td>\n",
       "      <td>1</td>\n",
       "      <td>20</td>\n",
       "      <td>0.000199</td>\n",
       "      <td>0.000000</td>\n",
       "      <td>0.000000</td>\n",
       "      <td>0.016667</td>\n",
       "      <td>0.000000</td>\n",
       "    </tr>\n",
       "    <tr>\n",
       "      <th>3</th>\n",
       "      <td>0</td>\n",
       "      <td>30</td>\n",
       "      <td>1</td>\n",
       "      <td>28</td>\n",
       "      <td>0.001367</td>\n",
       "      <td>0.002375</td>\n",
       "      <td>0.001953</td>\n",
       "      <td>0.016667</td>\n",
       "      <td>0.000000</td>\n",
       "    </tr>\n",
       "    <tr>\n",
       "      <th>4</th>\n",
       "      <td>0</td>\n",
       "      <td>33</td>\n",
       "      <td>1</td>\n",
       "      <td>28</td>\n",
       "      <td>0.001326</td>\n",
       "      <td>0.002375</td>\n",
       "      <td>0.002016</td>\n",
       "      <td>0.016667</td>\n",
       "      <td>0.047619</td>\n",
       "    </tr>\n",
       "  </tbody>\n",
       "</table>\n",
       "</div>"
      ],
      "text/plain": [
       "   xyz_campaign_id  age  gender  interest  Impressions    Clicks     Spent  \\\n",
       "0                0   30       1        15     0.002380  0.002375  0.002235   \n",
       "1                0   30       1        16     0.005824  0.004751  0.002844   \n",
       "2                0   32       1        20     0.000199  0.000000  0.000000   \n",
       "3                0   30       1        28     0.001367  0.002375  0.001953   \n",
       "4                0   33       1        28     0.001326  0.002375  0.002016   \n",
       "\n",
       "   Total_Conversion  Approved_Conversion  \n",
       "0          0.033333             0.047619  \n",
       "1          0.033333             0.000000  \n",
       "2          0.016667             0.000000  \n",
       "3          0.016667             0.000000  \n",
       "4          0.016667             0.047619  "
      ]
     },
     "execution_count": 36,
     "metadata": {},
     "output_type": "execute_result"
    }
   ],
   "source": [
    "# Make copy of conversion_data to scale and apply kmeans\n",
    "plotting_conversion_data = conversion_data.copy()\n",
    "plotting_conversion_data = scaler(plotting_conversion_data, ['Impressions', 'Clicks', 'Spent', 'Total_Conversion', 'Approved_Conversion'])\n",
    "plotting_conversion_data.head()"
   ]
  },
  {
   "cell_type": "code",
   "execution_count": 37,
   "metadata": {
    "ExecuteTime": {
     "end_time": "2020-01-02T09:25:12.586115Z",
     "start_time": "2020-01-02T09:25:12.579448Z"
    }
   },
   "outputs": [],
   "source": [
    "def feature_sum(type_string, campaign_id):\n",
    "    '''The following function is used to calculate the sum conversions for each campaign'''\n",
    "    feature_sum = round(plotting_conversion_data[type_string].loc[(plotting_conversion_data['xyz_campaign_id'] == campaign_id)].sum(), 2)\n",
    "    return feature_sum"
   ]
  },
  {
   "cell_type": "code",
   "execution_count": 60,
   "metadata": {
    "ExecuteTime": {
     "end_time": "2020-01-02T10:57:53.079975Z",
     "start_time": "2020-01-02T10:57:53.071431Z"
    }
   },
   "outputs": [],
   "source": [
    "def bar_count(campaign_names):\n",
    "    for bars in campaign_names:\n",
    "        count = bars.get_height()\n",
    "        plt.text(bars.get_x(), count + 0.5, count)"
   ]
  },
  {
   "cell_type": "code",
   "execution_count": 63,
   "metadata": {
    "ExecuteTime": {
     "end_time": "2020-01-02T11:15:16.020646Z",
     "start_time": "2020-01-02T11:15:15.667829Z"
    },
    "scrolled": false
   },
   "outputs": [
    {
     "data": {
      "image/png": "[encoded data removed]",
      "text/plain": [
       "<Figure size 720x576 with 1 Axes>"
      ]
     },
     "metadata": {
      "needs_background": "light"
     },
     "output_type": "display_data"
    }
   ],
   "source": [
    "# Campaign_metrics_plot\n",
    "    \n",
    "# Create an empty dictionary in which to store the feature sums for each campaign\n",
    "feature_sums = {}\n",
    "\n",
    "campaign_ids = [0, 1, 2]\n",
    "for i_d in campaign_ids:\n",
    "\n",
    "    # Loop through the given list and apply the feature_sum function to each function\n",
    "    features_list = ['Impressions', 'Clicks', 'Spent', 'Total_Conversion', 'Approved_Conversion']\n",
    "    features_sum_list = [feature_sum(feature, i_d) for feature in features_list]\n",
    "\n",
    "    feature_sums[str(i_d)] = features_sum_list\n",
    "\n",
    "# Bar positions\n",
    "bar_width = 0.2\n",
    "x1 = np.arange(3)\n",
    "x2 = [x + bar_width for x in x1]\n",
    "x3 = [x + bar_width for x in x2]\n",
    "x4 = [x + bar_width for x in x3]\n",
    "x5 = [x + bar_width for x in x4]\n",
    "\n",
    "sums_df = pd.DataFrame(data = feature_sums)\n",
    "sums_df.columns = ['Campaign 0', 'Campaign 1', 'Campaign 2']\n",
    "sums_df['Colours'] = ['darkorange', 'goldenrod', 'darksalmon','chocolate', 'saddlebrown']\n",
    "sums_df['X_ticks'] = [x1, x2, x3, x4, x5]\n",
    "sums_df['Labels'] = ['Impressions', 'Clicks', 'Spent', 'Total_Conversion', 'Approved_Conversion']\n",
    "\n",
    "# Plot Campaign metrics\n",
    "plt.figure(figsize = (10, 8))\n",
    "for index in sums_df.index:\n",
    "    plt.bar(sums_df['X_ticks'][index], \n",
    "    sums_df[['Campaign 0', 'Campaign 1', 'Campaign 2']].iloc[index], \n",
    "    width = bar_width,\n",
    "    color = sums_df['Colours'][index], \n",
    "    edgecolor = 'white', \n",
    "    label = sums_df['Labels'][index])\n",
    "    \n",
    "# Add xticks in the middle of the grouped bars\n",
    "plt.xlabel('Campaigns')\n",
    "plt.ylabel('Count')\n",
    "plt.xticks([x + bar_width  for x in range(len(sums_df.iloc[4]))], ['0', '1', '2'])\n",
    "\n",
    "# Create legend & Show graphic\n",
    "plt.legend()\n",
    "plt.show();"
   ]
  },
  {
   "cell_type": "code",
   "execution_count": 53,
   "metadata": {
    "ExecuteTime": {
     "end_time": "2020-01-02T10:28:08.966965Z",
     "start_time": "2020-01-02T10:28:08.941891Z"
    }
   },
   "outputs": [
    {
     "data": {
      "text/html": [
       "<div>\n",
       "<style scoped>\n",
       "    .dataframe tbody tr th:only-of-type {\n",
       "        vertical-align: middle;\n",
       "    }\n",
       "\n",
       "    .dataframe tbody tr th {\n",
       "        vertical-align: top;\n",
       "    }\n",
       "\n",
       "    .dataframe thead th {\n",
       "        text-align: right;\n",
       "    }\n",
       "</style>\n",
       "<table border=\"1\" class=\"dataframe\">\n",
       "  <thead>\n",
       "    <tr style=\"text-align: right;\">\n",
       "      <th></th>\n",
       "      <th>Campaign 0</th>\n",
       "      <th>Campaign 1</th>\n",
       "      <th>Campaign 2</th>\n",
       "      <th>Colours</th>\n",
       "      <th>X_ticks</th>\n",
       "      <th>Labels</th>\n",
       "    </tr>\n",
       "  </thead>\n",
       "  <tbody>\n",
       "    <tr>\n",
       "      <th>0</th>\n",
       "      <td>0.16</td>\n",
       "      <td>2.65</td>\n",
       "      <td>67.10</td>\n",
       "      <td>darkorange</td>\n",
       "      <td>[0, 1, 2]</td>\n",
       "      <td>Impressions</td>\n",
       "    </tr>\n",
       "    <tr>\n",
       "      <th>1</th>\n",
       "      <td>0.27</td>\n",
       "      <td>4.71</td>\n",
       "      <td>85.67</td>\n",
       "      <td>goldenrod</td>\n",
       "      <td>[0.2, 1.2, 2.2]</td>\n",
       "      <td>Clicks</td>\n",
       "    </tr>\n",
       "    <tr>\n",
       "      <th>2</th>\n",
       "      <td>0.23</td>\n",
       "      <td>4.52</td>\n",
       "      <td>86.98</td>\n",
       "      <td>darksalmon</td>\n",
       "      <td>[0.4, 1.4, 2.4000000000000004]</td>\n",
       "      <td>Spent</td>\n",
       "    </tr>\n",
       "    <tr>\n",
       "      <th>3</th>\n",
       "      <td>0.97</td>\n",
       "      <td>8.95</td>\n",
       "      <td>44.48</td>\n",
       "      <td>chocolate</td>\n",
       "      <td>[0.6000000000000001, 1.5999999999999999, 2.600...</td>\n",
       "      <td>Total_Conversion</td>\n",
       "    </tr>\n",
       "    <tr>\n",
       "      <th>4</th>\n",
       "      <td>1.14</td>\n",
       "      <td>8.71</td>\n",
       "      <td>41.52</td>\n",
       "      <td>saddlebrown</td>\n",
       "      <td>[0.8, 1.7999999999999998, 2.8000000000000007]</td>\n",
       "      <td>Approved_Conversion</td>\n",
       "    </tr>\n",
       "  </tbody>\n",
       "</table>\n",
       "</div>"
      ],
      "text/plain": [
       "   Campaign 0  Campaign 1  Campaign 2      Colours  \\\n",
       "0        0.16        2.65       67.10   darkorange   \n",
       "1        0.27        4.71       85.67    goldenrod   \n",
       "2        0.23        4.52       86.98   darksalmon   \n",
       "3        0.97        8.95       44.48    chocolate   \n",
       "4        1.14        8.71       41.52  saddlebrown   \n",
       "\n",
       "                                             X_ticks               Labels  \n",
       "0                                          [0, 1, 2]          Impressions  \n",
       "1                                    [0.2, 1.2, 2.2]               Clicks  \n",
       "2                     [0.4, 1.4, 2.4000000000000004]                Spent  \n",
       "3  [0.6000000000000001, 1.5999999999999999, 2.600...     Total_Conversion  \n",
       "4      [0.8, 1.7999999999999998, 2.8000000000000007]  Approved_Conversion  "
      ]
     },
     "execution_count": 53,
     "metadata": {},
     "output_type": "execute_result"
    }
   ],
   "source": [
    "sums_df.head()"
   ]
  },
  {
   "cell_type": "markdown",
   "metadata": {},
   "source": [
    "The relationship between the impressions, clicks, spend and conversions is plotted above. The feature counts had to be scaled due to the vast differences in total sums. From the plot above, these differences in total sums can be sobserved even after scaling. The more the impressions and clicks, the more money is spent on the ad. Also, there is a slight drop from the total conversions to total conversions, which is understandable considering that customer curiosity does not always result in a purchase. \n",
    "\n",
    "This pattern is consistent throughout all three campaigns. However, what is interesting to observe is that campaigns 0 and 1 follow the pattern and result in both total and approved conversions being higher in count than the impressions, clicks and spend. Campaign 2, which is the campaign with the largest number of ads in its adset and therefore the largest number of clicks, does not follow the pattern and sees a significant decline in conversions. There could be various reasons for this including the possibility of over-saturation that results in a disinterest from the customers. The creative, which I do not have access to in this analysis, could also be playing a role. Clearly, it is enough to generate clicks and takes up a large part of the company's spend budget."
   ]
  },
  {
   "cell_type": "code",
   "execution_count": 64,
   "metadata": {
    "ExecuteTime": {
     "end_time": "2020-01-02T12:25:59.696838Z",
     "start_time": "2020-01-02T12:25:59.254935Z"
    }
   },
   "outputs": [
    {
     "data": {
      "image/png": "[encoded data removed]",
      "text/plain": [
       "<Figure size 720x576 with 1 Axes>"
      ]
     },
     "metadata": {},
     "output_type": "display_data"
    }
   ],
   "source": [
    "# Radar Plot for Features \n",
    "\n",
    "# Set data\n",
    "features = []\n",
    "for i_d in range(3):\n",
    "    campaign_features = {}\n",
    "    campaign_features['age'] =  kmeans_conversion_data['age'].loc[(kmeans_conversion_data['xyz_campaign_id'] == i_d)].mean()\n",
    "    campaign_features['gender'] = kmeans_conversion_data['gender'].loc[(kmeans_conversion_data['xyz_campaign_id'] == i_d)].mean()\n",
    "    campaign_features['interest'] = kmeans_conversion_data['interest'].loc[(kmeans_conversion_data['xyz_campaign_id'] == i_d)].mean()\n",
    "    features.append(dict(campaign_features))\n",
    "    \n",
    "# Create dataframe\n",
    "features_df = pd.DataFrame(features)\n",
    "features_df['campaign'] = ['0', '1', '2']\n",
    "\n",
    "# Create background\n",
    "# number of variable\n",
    "categories = list(features_df)[1:]\n",
    "N = len(categories)\n",
    " \n",
    "# What will be the angle of each axis in the plot? (we divide the plot / number of variable)\n",
    "angles = [n / float(N) * 2 * pi for n in range(N)]\n",
    "angles += angles[:1]\n",
    " \n",
    "# Initialise the spider plot\n",
    "ax = plt.figure(figsize = (10, 8))\n",
    "ax = plt.subplot(111, polar = True)\n",
    " \n",
    "# If you want the first axis to be on top:\n",
    "ax.set_theta_offset(pi / 2)\n",
    "ax.set_theta_direction(-1)\n",
    " \n",
    "# Draw one axe per variable + add labels labels yet\n",
    "plt.xticks(angles[:-1], categories)\n",
    " \n",
    "# Draw ylabels\n",
    "ax.set_rlabel_position(0)\n",
    "plt.yticks([0.1, 0.2, 0.3, 0.4, 0.5, 0.6, 0.7], [\"0.1\",\"0.2\",\"0.3\", \"0.4\", \"0.5\", \"0.6\", \"0.7\"], color = \"grey\", size = 7)\n",
    "plt.ylim(0, 0.7)\n",
    " \n",
    "# Plot each individual = each line of the data\n",
    "\n",
    "# Ind1\n",
    "values = features_df.loc[0].drop('campaign').values.flatten().tolist()\n",
    "values += values[:1]\n",
    "ax.plot(angles, values, linewidth = 1, linestyle = 'solid', label = \"Campaign 0\");\n",
    "ax.fill(angles, values, 'darkorange', alpha = 0.1)\n",
    " \n",
    "# Ind2\n",
    "values = features_df.loc[1].drop('campaign').values.flatten().tolist()\n",
    "values += values[:1]\n",
    "ax.plot(angles, values, linewidth = 1, linestyle = 'solid', label = \"Campaign 1\");\n",
    "ax.fill(angles, values, 'goldenrod', alpha = 0.1)\n",
    "\n",
    "# Ind3\n",
    "values = features_df.loc[1].drop('campaign').values.flatten().tolist()\n",
    "values += values[:1]\n",
    "ax.plot(angles, values, linewidth = 1, linestyle = 'solid', label = \"Campaign 2\");\n",
    "ax.fill(angles, values, 'chocolate', alpha = 0.1)\n",
    " \n",
    "# Add legend\n",
    "plt.legend(loc = 'upper right', bbox_to_anchor=(0.1, 0.1));"
   ]
  },
  {
   "cell_type": "markdown",
   "metadata": {},
   "source": [
    "## Campaign Metrics"
   ]
  },
  {
   "cell_type": "code",
   "execution_count": 65,
   "metadata": {
    "ExecuteTime": {
     "end_time": "2020-01-02T12:26:06.190626Z",
     "start_time": "2020-01-02T12:26:05.161192Z"
    }
   },
   "outputs": [
    {
     "data": {
      "image/png": "[encoded data removed]",
      "text/plain": [
       "<Figure size 1080x1080 with 2 Axes>"
      ]
     },
     "metadata": {
      "needs_background": "light"
     },
     "output_type": "display_data"
    }
   ],
   "source": [
    "# A heatmap showing the correlation between features\n",
    "plt.figure(figsize = (15, 15))\n",
    "plt.title('Annotated heatmap for the various features in the Conversion Data')\n",
    "\n",
    "mask = np.zeros(conversion_data.corr().shape, dtype=bool)\n",
    "mask[np.triu_indices(len(mask))] = True\n",
    "\n",
    "sns.heatmap(conversion_data.corr(), annot = True, mask = mask, cmap = 'YlOrBr');"
   ]
  },
  {
   "cell_type": "code",
   "execution_count": 72,
   "metadata": {
    "ExecuteTime": {
     "end_time": "2020-01-02T12:30:12.920849Z",
     "start_time": "2020-01-02T12:30:12.891961Z"
    }
   },
   "outputs": [],
   "source": [
    "# Derive new features by which to meausre the return on investment made by the company on advertising campaigns\n",
    "# KPIs: Feature engineering in order to derive camapaign success metrics \n",
    "\n",
    "def campaign_impressions_cost(campaign_id):\n",
    "    '''The function below calculates how many times a campaign is seen and how much that costs'''\n",
    "    campaign = plotting_conversion_data.loc[plotting_conversion_data['xyz_campaign_id'] == campaign_id]\n",
    "    campaign_impressions = campaign['Impressions'].sum()\n",
    "    campaign_impression_cost = (campaign['Spent'].sum() / campaign_impressions) * 1000 # measured every 1000 impressions\n",
    "    return campaign_impression_cost\n",
    "\n",
    "def click_through_rate(campaign_id):\n",
    "    '''The following function calculates the click through rate of a campaign - how many viewers engaged with\n",
    "    the content of the campaign'''\n",
    "    campaign = plotting_conversion_data.loc[plotting_conversion_data['xyz_campaign_id'] == campaign_id]\n",
    "    campaign_ctr = (campaign['Clicks'].sum()/ campaign['Impressions'].sum())*100\n",
    "    return campaign_ctr\n",
    "\n",
    "def cost_per_click(campaign_id):\n",
    "    '''The following function calculates the money spent to get a viewer to engage with the content'''\n",
    "    campaign = plotting_conversion_data.loc[plotting_conversion_data['xyz_campaign_id'] == campaign_id]\n",
    "    campaign_cpc = campaign['Spent'].sum()/ campaign['Clicks'].sum()\n",
    "    return campaign_cpc\n",
    "\n",
    "def conversion_rate(campaign_id):\n",
    "    '''The following function calculates how many clicks per campaign result in both total and approved \n",
    "    conversions'''\n",
    "    campaign = plotting_conversion_data.loc[plotting_conversion_data['xyz_campaign_id'] == campaign_id]\n",
    "    campaign_approved_cr = campaign['Spent'].sum()/ campaign['Approved_Conversion'].sum()\n",
    "    campaign_total_cr = campaign['Spent'].sum()/ campaign['Total_Conversion'].sum()\n",
    "    return campaign_approved_cr\n",
    "\n",
    "def conversion_loss(campaign_id):\n",
    "    '''The following function calculates the loss of viewers between a total conversion and an approved one'''\n",
    "    campaign = plotting_conversion_data.loc[plotting_conversion_data['xyz_campaign_id'] == campaign_id]\n",
    "    campaign_conversion_loss = np.sum(campaign['Total_Conversion'] - campaign['Approved_Conversion'])\n",
    "    loss_rate = (campaign_conversion_loss / len(campaign)) \n",
    "    return loss_rate"
   ]
  },
  {
   "cell_type": "code",
   "execution_count": 73,
   "metadata": {
    "ExecuteTime": {
     "end_time": "2020-01-02T12:30:18.318767Z",
     "start_time": "2020-01-02T12:30:18.268414Z"
    }
   },
   "outputs": [],
   "source": [
    "campaign_ids = range(3)\n",
    "campaigns = []\n",
    "for i_d in campaign_ids:\n",
    "    campaign_kpa = {}\n",
    "    campaign_kpa['campaign_impressions_cost'] = campaign_impressions_cost(i_d)\n",
    "    campaign_kpa['click_through_rate'] = click_through_rate(i_d)\n",
    "    campaign_kpa['cost_per_click'] = cost_per_click(i_d)\n",
    "    campaign_kpa['conversion_rate'] = conversion_rate(i_d)\n",
    "    campaign_kpa['conversion_loss'] = conversion_loss(i_d)\n",
    "    campaigns.append(dict(campaign_kpa))"
   ]
  },
  {
   "cell_type": "code",
   "execution_count": 75,
   "metadata": {
    "ExecuteTime": {
     "end_time": "2020-01-02T12:31:06.692190Z",
     "start_time": "2020-01-02T12:31:06.674412Z"
    }
   },
   "outputs": [
    {
     "data": {
      "text/html": [
       "<div>\n",
       "<style scoped>\n",
       "    .dataframe tbody tr th:only-of-type {\n",
       "        vertical-align: middle;\n",
       "    }\n",
       "\n",
       "    .dataframe tbody tr th {\n",
       "        vertical-align: top;\n",
       "    }\n",
       "\n",
       "    .dataframe thead th {\n",
       "        text-align: right;\n",
       "    }\n",
       "</style>\n",
       "<table border=\"1\" class=\"dataframe\">\n",
       "  <thead>\n",
       "    <tr style=\"text-align: right;\">\n",
       "      <th></th>\n",
       "      <th>campaign_impressions_cost</th>\n",
       "      <th>click_through_rate</th>\n",
       "      <th>cost_per_click</th>\n",
       "      <th>conversion_rate</th>\n",
       "      <th>conversion_loss</th>\n",
       "    </tr>\n",
       "  </thead>\n",
       "  <tbody>\n",
       "    <tr>\n",
       "      <th>0</th>\n",
       "      <td>1492.943094</td>\n",
       "      <td>171.291113</td>\n",
       "      <td>0.871582</td>\n",
       "      <td>0.204698</td>\n",
       "      <td>-0.003263</td>\n",
       "    </tr>\n",
       "    <tr>\n",
       "      <th>1</th>\n",
       "      <td>1706.078792</td>\n",
       "      <td>177.828238</td>\n",
       "      <td>0.959397</td>\n",
       "      <td>0.518831</td>\n",
       "      <td>0.000508</td>\n",
       "    </tr>\n",
       "    <tr>\n",
       "      <th>2</th>\n",
       "      <td>1296.347929</td>\n",
       "      <td>127.687272</td>\n",
       "      <td>1.015252</td>\n",
       "      <td>2.094675</td>\n",
       "      <td>0.004735</td>\n",
       "    </tr>\n",
       "  </tbody>\n",
       "</table>\n",
       "</div>"
      ],
      "text/plain": [
       "   campaign_impressions_cost  click_through_rate  cost_per_click  \\\n",
       "0                1492.943094          171.291113        0.871582   \n",
       "1                1706.078792          177.828238        0.959397   \n",
       "2                1296.347929          127.687272        1.015252   \n",
       "\n",
       "   conversion_rate  conversion_loss  \n",
       "0         0.204698        -0.003263  \n",
       "1         0.518831         0.000508  \n",
       "2         2.094675         0.004735  "
      ]
     },
     "execution_count": 75,
     "metadata": {},
     "output_type": "execute_result"
    }
   ],
   "source": [
    "# Convert dictionary to dataframe\n",
    "campaign_kpa_df = pd.DataFrame(data = campaigns)\n",
    "campaign_kpa_df"
   ]
  },
  {
   "cell_type": "markdown",
   "metadata": {},
   "source": [
    "The key performance indicators for the campaigns are telling. The campaign with the highest impression cost is campaign 1 which is also the campaign with the second largest number of ads in its adset. This means for a smaller number of ads seen, it costs more to for each ad to be seen on average. This campaign also has the highest click-through rate which implies that the spenditure for impressions may be worth it. Campaign 1 presents the highest conversion retention from the total conversions to the approved ones. This means that customers who engage and inquire about ads from this campaign often end up making a purchase as well.  \n",
    "\n",
    "Campaign 0 has the least amount of ads in its adset and yet has the second highest impression cost, click through rate and cost per click. This means campaign 0 ads cost more to be seen. The campaign also has the lowest conversion rate as compared to the other campaigns(probably due to the few number of ads) but has a negative conversion. This means that the approved conversions(purchases) are more than the total conversions(inquires). This alludes to the possibility of the product advertised being quite well known. The ads for it are minimal but a good click through rate is observed and the product is being purchased with minimal inquiries made first. The creative content for the ad may also be outstanding regardless of the number of ads seen.\n",
    "\n",
    "Campaign 2 has the largest of ads in its adset, hence the lowest impression cost. However, it also has the lowest click through rate and this raises questions about why-is the content not strong enough or are there too many ads in rotation? It also has the highest cost per click and conversion rate. The campaign also has the highest conversion loss from total conversions to approved conversions. \n",
    "\n",
    "It is also important to note that due to the initial differences in number of ads per campaign, the comparisons may be slightly skewed."
   ]
  },
  {
   "cell_type": "markdown",
   "metadata": {},
   "source": [
    "## How well can I predict an approved conversion?"
   ]
  },
  {
   "cell_type": "markdown",
   "metadata": {},
   "source": [
    "### XGBoost"
   ]
  },
  {
   "cell_type": "code",
   "execution_count": 84,
   "metadata": {
    "ExecuteTime": {
     "end_time": "2020-01-02T13:30:42.367298Z",
     "start_time": "2020-01-02T13:30:42.321420Z"
    }
   },
   "outputs": [
    {
     "name": "stdout",
     "output_type": "stream",
     "text": [
      "0:30\n",
      "1:292\n",
      "2:237\n"
     ]
    }
   ],
   "source": [
    "# How many non_converts are there for each campaign?\n",
    "no_conversion = conversion_data[conversion_data['Approved_Conversion'] == 0]\n",
    "for i_d in range(3):\n",
    "    campaign_0_non_conversions = no_conversion[no_conversion['xyz_campaign_id'] == i_d]\n",
    "    print(f'{i_d}:{len(campaign_0_non_conversions)}')"
   ]
  },
  {
   "cell_type": "code",
   "execution_count": 85,
   "metadata": {
    "ExecuteTime": {
     "end_time": "2020-01-02T13:30:43.321184Z",
     "start_time": "2020-01-02T13:30:43.285326Z"
    }
   },
   "outputs": [],
   "source": [
    "# Normalize the data \n",
    "model_conversion_data = conversion_data.copy()\n",
    "# model_conversion_data = scaler(model_conversion_data, ['age', 'gender', 'interest', 'Impressions', 'Clicks', 'Total_Conversion', 'Approved_Conversion'])\n",
    "\n",
    "# One hot enncode campaigns\n",
    "one_hot_encoded_campaigns = pd.get_dummies(model_conversion_data['xyz_campaign_id'])\n",
    "campaign_values = one_hot_encoded_campaigns.values\n",
    "model_conversion_data['campaign 0'] = campaign_values[:, 0]\n",
    "model_conversion_data['campaign 1'] = campaign_values[:, 1]\n",
    "model_conversion_data['campaign 2'] = campaign_values[:, 2]\n",
    "\n",
    "\n",
    "# Drop campaign column \n",
    "model_conversion_data = model_conversion_data.drop(['xyz_campaign_id'], axis = 1)\n",
    "\n",
    "# Convert to int type or models give value error: continuous is not supported\n",
    "model_conversion_data = model_conversion_data.astype('int64')\n",
    "\n",
    "# model_conversion_data.info()\n",
    "\n",
    "# Set X and y variables\n",
    "X = model_conversion_data.drop(['Total_Conversion','Approved_Conversion'], axis = 1)\n",
    "y = model_conversion_data['Approved_Conversion']"
   ]
  },
  {
   "cell_type": "code",
   "execution_count": 87,
   "metadata": {
    "ExecuteTime": {
     "end_time": "2020-01-02T13:30:56.618379Z",
     "start_time": "2020-01-02T13:30:56.595367Z"
    }
   },
   "outputs": [],
   "source": [
    "# The data is split for testing and training\n",
    "X_train, X_test, y_train, y_test = train_test_split(X, y, test_size = 0.1, random_state = 0)"
   ]
  },
  {
   "cell_type": "code",
   "execution_count": 88,
   "metadata": {
    "ExecuteTime": {
     "end_time": "2020-01-02T13:30:59.005584Z",
     "start_time": "2020-01-02T13:30:57.520361Z"
    }
   },
   "outputs": [],
   "source": [
    "# XGB model\n",
    "xgb_clf = xgb.XGBClassifier(random_state = 0, learning_rate = 0.01).fit(X_train, y_train)\n",
    "xgb_predictions = xgb_clf.predict(X_test)\n",
    "xgb_accuracy = accuracy_score(y_test, xgb_predictions)"
   ]
  },
  {
   "cell_type": "code",
   "execution_count": 89,
   "metadata": {
    "ExecuteTime": {
     "end_time": "2020-01-02T13:31:00.181730Z",
     "start_time": "2020-01-02T13:31:00.166690Z"
    }
   },
   "outputs": [
    {
     "data": {
      "text/plain": [
       "0.5478260869565217"
      ]
     },
     "execution_count": 89,
     "metadata": {},
     "output_type": "execute_result"
    }
   ],
   "source": [
    "xgb_accuracy"
   ]
  },
  {
   "cell_type": "markdown",
   "metadata": {},
   "source": [
    "### Logistic Regression"
   ]
  },
  {
   "cell_type": "code",
   "execution_count": 90,
   "metadata": {
    "ExecuteTime": {
     "end_time": "2020-01-02T13:31:03.091864Z",
     "start_time": "2020-01-02T13:31:01.803703Z"
    }
   },
   "outputs": [],
   "source": [
    "# Logistic Regression model\n",
    "log_reg_clf = LogisticRegression(solver = 'lbfgs', multi_class = 'auto', max_iter = 1000).fit(X_train, y_train)\n",
    "log_reg_predictions = log_reg_clf.predict(X_test)\n",
    "log_reg_accuracy = accuracy_score(y_test, log_reg_predictions)"
   ]
  },
  {
   "cell_type": "code",
   "execution_count": 91,
   "metadata": {
    "ExecuteTime": {
     "end_time": "2020-01-02T13:31:04.049841Z",
     "start_time": "2020-01-02T13:31:04.039216Z"
    }
   },
   "outputs": [
    {
     "data": {
      "text/plain": [
       "0.5826086956521739"
      ]
     },
     "execution_count": 91,
     "metadata": {},
     "output_type": "execute_result"
    }
   ],
   "source": [
    "log_reg_accuracy"
   ]
  },
  {
   "cell_type": "markdown",
   "metadata": {},
   "source": [
    "### Logistic Regression with Cross Validation"
   ]
  },
  {
   "cell_type": "code",
   "execution_count": 92,
   "metadata": {
    "ExecuteTime": {
     "end_time": "2020-01-02T13:31:11.522334Z",
     "start_time": "2020-01-02T13:31:06.127370Z"
    }
   },
   "outputs": [
    {
     "name": "stderr",
     "output_type": "stream",
     "text": [
      "/Users/dimphomashile/opt/anaconda3/envs/akademy.ai/lib/python3.7/site-packages/sklearn/linear_model/logistic.py:469: FutureWarning: Default multi_class will be changed to 'auto' in 0.22. Specify the multi_class option to silence this warning.\n",
      "  \"this warning.\", FutureWarning)\n",
      "/Users/dimphomashile/opt/anaconda3/envs/akademy.ai/lib/python3.7/site-packages/sklearn/model_selection/_split.py:657: Warning: The least populated class in y has only 1 members, which is too few. The minimum number of members in any class cannot be less than n_splits=5.\n",
      "  % (min_groups, self.n_splits)), Warning)\n",
      "/Users/dimphomashile/opt/anaconda3/envs/akademy.ai/lib/python3.7/site-packages/sklearn/linear_model/logistic.py:947: ConvergenceWarning: lbfgs failed to converge. Increase the number of iterations.\n",
      "  \"of iterations.\", ConvergenceWarning)\n",
      "/Users/dimphomashile/opt/anaconda3/envs/akademy.ai/lib/python3.7/site-packages/sklearn/linear_model/logistic.py:947: ConvergenceWarning: lbfgs failed to converge. Increase the number of iterations.\n",
      "  \"of iterations.\", ConvergenceWarning)\n",
      "/Users/dimphomashile/opt/anaconda3/envs/akademy.ai/lib/python3.7/site-packages/sklearn/linear_model/logistic.py:947: ConvergenceWarning: lbfgs failed to converge. Increase the number of iterations.\n",
      "  \"of iterations.\", ConvergenceWarning)\n",
      "/Users/dimphomashile/opt/anaconda3/envs/akademy.ai/lib/python3.7/site-packages/sklearn/linear_model/logistic.py:947: ConvergenceWarning: lbfgs failed to converge. Increase the number of iterations.\n",
      "  \"of iterations.\", ConvergenceWarning)\n"
     ]
    }
   ],
   "source": [
    "log_reg_cv_clf = LogisticRegressionCV(cv = 5, random_state=0).fit(X_train, y_train)\n",
    "log_reg_cv_predictions = log_reg_cv_clf.predict(X_test)\n",
    "log_reg_cv_accuracy = accuracy_score(y_test, log_reg_cv_predictions)"
   ]
  },
  {
   "cell_type": "code",
   "execution_count": 97,
   "metadata": {
    "ExecuteTime": {
     "end_time": "2020-01-02T13:31:30.025772Z",
     "start_time": "2020-01-02T13:31:30.016560Z"
    }
   },
   "outputs": [
    {
     "data": {
      "text/plain": [
       "0.5217391304347826"
      ]
     },
     "execution_count": 97,
     "metadata": {},
     "output_type": "execute_result"
    }
   ],
   "source": [
    "log_reg_cv_accuracy"
   ]
  },
  {
   "cell_type": "markdown",
   "metadata": {},
   "source": [
    "### SVM"
   ]
  },
  {
   "cell_type": "code",
   "execution_count": 93,
   "metadata": {
    "ExecuteTime": {
     "end_time": "2020-01-02T13:31:16.154524Z",
     "start_time": "2020-01-02T13:31:15.900012Z"
    }
   },
   "outputs": [
    {
     "name": "stderr",
     "output_type": "stream",
     "text": [
      "/Users/dimphomashile/opt/anaconda3/envs/akademy.ai/lib/python3.7/site-packages/sklearn/svm/base.py:193: FutureWarning: The default value of gamma will change from 'auto' to 'scale' in version 0.22 to account better for unscaled features. Set gamma explicitly to 'auto' or 'scale' to avoid this warning.\n",
      "  \"avoid this warning.\", FutureWarning)\n"
     ]
    }
   ],
   "source": [
    "# SVM Model\n",
    "svm_clf = svm.SVC().fit(X_train, y_train)\n",
    "svm_clf_predictions = svm_clf.predict(X_test)\n",
    "svm_clf_accuracy = accuracy_score(y_test, svm_clf_predictions)"
   ]
  },
  {
   "cell_type": "code",
   "execution_count": 94,
   "metadata": {
    "ExecuteTime": {
     "end_time": "2020-01-02T13:31:17.108432Z",
     "start_time": "2020-01-02T13:31:17.100382Z"
    }
   },
   "outputs": [
    {
     "data": {
      "text/plain": [
       "0.4956521739130435"
      ]
     },
     "execution_count": 94,
     "metadata": {},
     "output_type": "execute_result"
    }
   ],
   "source": [
    "svm_clf_accuracy"
   ]
  },
  {
   "cell_type": "code",
   "execution_count": 95,
   "metadata": {
    "ExecuteTime": {
     "end_time": "2020-01-02T13:31:18.425246Z",
     "start_time": "2020-01-02T13:31:18.419828Z"
    }
   },
   "outputs": [],
   "source": [
    "model_accuracies = {'logistic regression': 57.4, 'logistic regression with cross validation': 49.6, \n",
    "                    'SVM': 49.6, 'XGB': 55.7}"
   ]
  },
  {
   "cell_type": "code",
   "execution_count": 96,
   "metadata": {
    "ExecuteTime": {
     "end_time": "2020-01-02T13:31:20.630101Z",
     "start_time": "2020-01-02T13:31:20.244358Z"
    }
   },
   "outputs": [
    {
     "data": {
      "image/png": "[encoded data removed]",
      "text/plain": [
       "<Figure size 1440x1080 with 1 Axes>"
      ]
     },
     "metadata": {
      "needs_background": "light"
     },
     "output_type": "display_data"
    }
   ],
   "source": [
    "plt.figure(figsize = (20, 15))\n",
    "plt.barh(range(len(model_accuracies)), list(model_accuracies.values()), align = 'center', \n",
    "        color = ['darkorange', 'goldenrod', 'darksalmon', 'chocolate'])\n",
    "plt.xticks(range(len(model_accuracies)), list(model_accuracies.keys()))\n",
    "plt.title('The Accuracy Scores of Various Classification models')\n",
    "plt.xlabel('Classifiers')\n",
    "plt.ylabel('Accuracy score')\n",
    "plt.show()"
   ]
  }
 ],
 "metadata": {
  "kernelspec": {
   "display_name": "Python 3",
   "language": "python",
   "name": "python3"
  },
  "language_info": {
   "codemirror_mode": {
    "name": "ipython",
    "version": 3
   },
   "file_extension": ".py",
   "mimetype": "text/x-python",
   "name": "python",
   "nbconvert_exporter": "python",
   "pygments_lexer": "ipython3",
   "version": "3.7.5"
  },
  "toc": {
   "base_numbering": 1,
   "nav_menu": {},
   "number_sections": true,
   "sideBar": true,
   "skip_h1_title": false,
   "title_cell": "Table of Contents",
   "title_sidebar": "Contents",
   "toc_cell": false,
   "toc_position": {},
   "toc_section_display": true,
   "toc_window_display": false
  },
  "varInspector": {
   "cols": {
    "lenName": 16,
    "lenType": 16,
    "lenVar": 40
   },
   "kernels_config": {
    "python": {
     "delete_cmd_postfix": "",
     "delete_cmd_prefix": "del ",
     "library": "var_list.py",
     "varRefreshCmd": "print(var_dic_list())"
    },
    "r": {
     "delete_cmd_postfix": ") ",
     "delete_cmd_prefix": "rm(",
     "library": "var_list.r",
     "varRefreshCmd": "cat(var_dic_list()) "
    }
   },
   "types_to_exclude": [
    "module",
    "function",
    "builtin_function_or_method",
    "instance",
    "_Feature"
   ],
   "window_display": false
  }
 },
 "nbformat": 4,
 "nbformat_minor": 2
}
